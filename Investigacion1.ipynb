{
 "cells": [
  {
   "attachments": {},
   "cell_type": "markdown",
   "metadata": {},
   "source": [
    "Universidad Galileo \n",
    "\n",
    "Ciencia de Datos en Python \n",
    "\n",
    "Alejandra Ma. Ubico Melgar\n",
    "\n",
    "\n",
    "# Investigacion 1\n",
    "\n",
    "## Git\n",
    "Git es un sistema de versionamiento gratuito y de codigo abierto. \n",
    "Es capaz de manejer projectos pequenos y grandes rapida y eficientemente. \n",
    "Una de las ventajas de git es que es facil de aprender. Tambien podemos encontrar mucha documentacion y ayuda en linea.\n",
    "\n",
    "Otra de las ventajas es que se pueden crear distintas branches locales. En mi trabajo utilizamos git para manejar los scripts que nos ayudan en distintas tareas y pruebas. Tomamos la ultima version con git pull y tenemos acceso a branches de varios equipos dentro de la organizacion. \n",
    "\n",
    "Tambien es bastante rapido. Cuenta con un modelo de datos que asegura la integridad criptografica de los proyectos. Cada archivo y commit que se realizar, tiene una validacion de tipo checksum. \n",
    "\n",
    "## Github\n",
    "Github presta un servicio en la nube que permite alojar a git. Este almacenamiento se realizar en repositorios. Se puede decir que github es una plataforma que ayuda a gestionar y organizar proyectos, incorporando las funciones del control de versionamiento. \n",
    "\n",
    "Este control de versiones permite que los usuarios sigan los cambios que se realizar a los archivos, que obtengan la ultima version, que puedan editar una version localmente previo a confirmar y publicar los cambios, entre otras funciones. \n",
    "\n",
    "La ventaja de github es que su interfaz es mucho mas amigable y facil de usar si lo comparamos con git, permitiendo que muchas mas personas con poco conocimiento tecnico puedan acceder a ella y utilizarla. \n",
    "\n",
    "Existe una version gratuita y una version pagada de github. \n",
    "\n",
    "## Markdown \n",
    "Es un lenguaje que permite agregar formato al texto, para una mejor compresion del mismo y mayor orden. Este formato incluye titulos, negritas, cursivas, enlaces. Es generalmente utilizado en paginas o servicios de internet. \n",
    "\n",
    "La ventaja de que el lenguaje este basado en un formato de texto plano es su compatibilidad con las plataformas y dispositivos electronicos. \n",
    "\n",
    "Podemos encontrar varios recursos en linea y cheat sheets con los comandos basicos para aprender mas facilmente. Existe una pagina oficial donde podemos acceder a recursos imporantes para aprender mas sobre este lenguaje. "
   ]
  }
 ],
 "metadata": {
  "language_info": {
   "name": "python"
  },
  "orig_nbformat": 4
 },
 "nbformat": 4,
 "nbformat_minor": 2
}
