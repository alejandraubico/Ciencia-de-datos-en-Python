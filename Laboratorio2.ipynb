{
 "cells": [
  {
   "cell_type": "markdown",
   "source": [
    "### Parte #1\n",
    "1. Haga un programa en Python que reciba de parametro un numero de segundos y que despliegue en pantalla, las horas, minutos y segundos que representan. Por ejemplo:\n",
    "Si el numero de segundos recibidos fuera: 2743 entonces su programa deberıa desplegar:\n",
    "Horas: 0, Minutos: 45 , Segundos: 43\n",
    "Si el numero de segundos recibidos fuera 5871: Horas: 1, Minutos: 37 , Segundos: 51\n",
    "Recuerde manejar excepciones y errores que considere necesarios."
   ],
   "metadata": {
    "collapsed": false
   }
  },
  {
   "cell_type": "code",
   "execution_count": 2,
   "outputs": [
    {
     "name": "stdout",
     "output_type": "stream",
     "text": [
      "Horas:  1\n",
      "Minutos  37\n",
      "Segundos 51\n"
     ]
    }
   ],
   "source": [
    "def sec(segundos):\n",
    "    try:\n",
    "        segundos = int(input(\"Ingrese la cantidad (en segundos): \"))\n",
    "        Horas = segundos // 3600\n",
    "        Minutos = segundos % 3600 // 60\n",
    "        Segs = round(((segundos % 3600 / 60) - (segundos % 3600 // 60)) *60)\n",
    "        print(\"Horas: \", Horas)\n",
    "        print(\"Minutos \", Minutos)\n",
    "        print(\"Segundos\", Segs)\n",
    "    except(ValueError):\n",
    "        print(\"Los datos no son validos.\")\n",
    "    except():\n",
    "        print(\"Revise los datos ingresados.\")\n",
    "# Se llama la función secs\n",
    "sec(1)"
   ],
   "metadata": {
    "collapsed": false
   }
  },
  {
   "cell_type": "markdown",
   "source": [
    "2. Haga una funcion en Python que dado un nu´mero entre 1 y 20. Y un caracter cualquiera\n",
    "despliegue cuatro patrones triangulares.\n",
    "Por ejemplo si el usuario ingresara el numero 4 y el sımbolo * el programa debera desplegar\n",
    "lo siguiente:"
   ],
   "metadata": {
    "collapsed": false
   }
  },
  {
   "cell_type": "code",
   "execution_count": 3,
   "outputs": [
    {
     "name": "stdout",
     "output_type": "stream",
     "text": [
      "L                        LLLLLLLLLLLLLLLLLLLL     LLLLLLLLLLLLLLLLLLLL                        L\n",
      "LL                        LLLLLLLLLLLLLLLLLLL     LLLLLLLLLLLLLLLLLLL                        LL\n",
      "LLL                        LLLLLLLLLLLLLLLLLL     LLLLLLLLLLLLLLLLLL                        LLL\n",
      "LLLL                        LLLLLLLLLLLLLLLLL     LLLLLLLLLLLLLLLLL                        LLLL\n",
      "LLLLL                        LLLLLLLLLLLLLLLL     LLLLLLLLLLLLLLLL                        LLLLL\n",
      "LLLLLL                        LLLLLLLLLLLLLLL     LLLLLLLLLLLLLLL                        LLLLLL\n",
      "LLLLLLL                        LLLLLLLLLLLLLL     LLLLLLLLLLLLLL                        LLLLLLL\n",
      "LLLLLLLL                        LLLLLLLLLLLLL     LLLLLLLLLLLLL                        LLLLLLLL\n",
      "LLLLLLLLL                        LLLLLLLLLLLL     LLLLLLLLLLLL                        LLLLLLLLL\n",
      "LLLLLLLLLL                        LLLLLLLLLLL     LLLLLLLLLLL                        LLLLLLLLLL\n",
      "LLLLLLLLLLL                        LLLLLLLLLL     LLLLLLLLLL                        LLLLLLLLLLL\n",
      "LLLLLLLLLLLL                        LLLLLLLLL     LLLLLLLLL                        LLLLLLLLLLLL\n",
      "LLLLLLLLLLLLL                        LLLLLLLL     LLLLLLLL                        LLLLLLLLLLLLL\n",
      "LLLLLLLLLLLLLL                        LLLLLLL     LLLLLLL                        LLLLLLLLLLLLLL\n",
      "LLLLLLLLLLLLLLL                        LLLLLL     LLLLLL                        LLLLLLLLLLLLLLL\n",
      "LLLLLLLLLLLLLLLL                        LLLLL     LLLLL                        LLLLLLLLLLLLLLLL\n",
      "LLLLLLLLLLLLLLLLL                        LLLL     LLLL                        LLLLLLLLLLLLLLLLL\n",
      "LLLLLLLLLLLLLLLLLL                        LLL     LLL                        LLLLLLLLLLLLLLLLLL\n",
      "LLLLLLLLLLLLLLLLLLL                        LL     LL                        LLLLLLLLLLLLLLLLLLL\n",
      "LLLLLLLLLLLLLLLLLLLL                        L     L                        LLLLLLLLLLLLLLLLLLLL\n"
     ]
    }
   ],
   "source": [
    "caracter = input(\"Ingrese un caracter: \")\n",
    "numero = int(input(\"Ingrese un número entre 1 y 20: \"))\n",
    "\n",
    "if ((numero < 1) or (numero>20)):\n",
    "    print(\"El número no se encuentra dentro del rango aceptado.\")\n",
    "else:\n",
    "    for i in range(1, numero + 1, 1):\n",
    "        p1 = caracter * i\n",
    "        p2 = caracter * (numero + 1 - i)\n",
    "        p3 = caracter * (numero + 1 - i)\n",
    "        p4 = caracter * i\n",
    "        p5 = \" \"\n",
    "        print(p1.ljust(numero + i + 3), p2, p5.ljust(3), p3, p4.rjust(numero + i + 3))"
   ],
   "metadata": {
    "collapsed": false
   }
  },
  {
   "cell_type": "markdown",
   "source": [
    "3. Haga un programa en Python que la fecha de nacimiento de una persona (puede ingresar por\n",
    "separado cada valor, es decir pedir primero d´ıa, luego mes y luego an˜o), despliegue la edad\n",
    "de la persona en an˜os, meses y d´ıas. Su resultado puede ser aproximado."
   ],
   "metadata": {
    "collapsed": false
   }
  },
  {
   "cell_type": "code",
   "execution_count": 15,
   "outputs": [
    {
     "name": "stdout",
     "output_type": "stream",
     "text": [
      "Edad:  31.0  años  3.0  meses y  29  dias.\n"
     ]
    }
   ],
   "source": [
    "from datetime import date as d\n",
    "\n",
    "#today\n",
    "today = d.today()\n",
    "tDay = today.day\n",
    "tMonth = today.month\n",
    "tYear = today.year\n",
    "\n",
    "try:\n",
    "    bYear = int(input(\"Ingrese el año de nacimiento: \"))\n",
    "    if((bYear < 0) or (bYear > tYear)):\n",
    "        print(\"Ingrese un anio valido\")\n",
    "        raise ValueError(\"ValueError\")\n",
    "    bMonth = int(input(\"Ingrese el mes de nacimiento: \"))\n",
    "    if((bMonth < 0) or (bMonth > 12)):\n",
    "        print(\"Ingrese un mes valido\")\n",
    "        raise ValueError(\"ValueError\")\n",
    "    bDay = int(input(\"Ingrese el dia de nacimiento: \"))\n",
    "    if((bDay < 0) or (bDay > 30)):\n",
    "        print(\"Ingrese un dia valido\")\n",
    "        raise ValueError(\"ValueError\")\n",
    "\n",
    "    edadseg = bYear * 3.154e+7 + bMonth * 2.628e+6 + bDay * 86400\n",
    "    seghoy =  tYear * 3.154e+7 + tMonth * 2.628e+6 + tDay * 86400\n",
    "\n",
    "    if(seghoy < edadseg):\n",
    "        raise ValueError(\"ValueError\")\n",
    "    else:\n",
    "        edad = seghoy - edadseg\n",
    "\n",
    "    # age\n",
    "    aYear = edad // 3.154e+7\n",
    "    aMonth = (edad % 3.154e+7) // 2.628e+6\n",
    "    aDay = round(((edad % 3.154e+7 / 2.628e+6 ) - (edad % 3.154e+7 // 2.628e+6 )) * 30)\n",
    "\n",
    "    print(\"Edad: \", aYear, \" años \", aMonth, \" meses y \", aDay, \" dias.\")\n",
    "\n",
    "except(ValueError):\n",
    "    print(\"Intente de nuevo. Datos inválidos\")\n",
    "except():\n",
    "    print(\"Intente de nuevo. Error desconocido.\")"
   ],
   "metadata": {
    "collapsed": false
   }
  },
  {
   "cell_type": "markdown",
   "source": [
    "4. Escriba una funci´on en Python que dada una tupla de elementos (nu´meros o letras) esta se\n",
    "convierta a un string. Tomar nota del siguiente ejemplo:\n",
    "Si la entrada fuera: (10, 20, 40, 5, 70)\n",
    "La salida deber´ıa ser: 102040570"
   ],
   "metadata": {
    "collapsed": false
   }
  },
  {
   "cell_type": "code",
   "execution_count": 24,
   "outputs": [
    {
     "data": {
      "text/plain": "'102040570'"
     },
     "execution_count": 24,
     "metadata": {},
     "output_type": "execute_result"
    }
   ],
   "source": [
    "def ftupla(tupla):\n",
    "    tNum =  \"\"\n",
    "    for value in tupla:\n",
    "        tNum = tNum + str(value)\n",
    "    return tNum\n",
    "\n",
    "ftupla((10, 20, 40, 5, 70))"
   ],
   "metadata": {
    "collapsed": false
   }
  },
  {
   "cell_type": "markdown",
   "source": [
    "5.Cree un programa en Python que dada una lista de tuplas, elimine las tuplas que estan vacıas"
   ],
   "metadata": {
    "collapsed": false
   }
  },
  {
   "cell_type": "code",
   "execution_count": 22,
   "outputs": [
    {
     "data": {
      "text/plain": "[(), (), ('X',), ('a', 'b'), ('a', 'b', 'c'), (), ('d',)]"
     },
     "execution_count": 22,
     "metadata": {},
     "output_type": "execute_result"
    }
   ],
   "source": [
    "t1 = [(), (), ('X',), ('a', 'b'), ('a', 'b', 'c'),(),('d',)]\n",
    "t1"
   ],
   "metadata": {
    "collapsed": false
   }
  },
  {
   "cell_type": "code",
   "execution_count": 24,
   "outputs": [
    {
     "name": "stdout",
     "output_type": "stream",
     "text": [
      "[('X',), ('a', 'b'), ('a', 'b', 'c'), ('d',)]\n"
     ]
    }
   ],
   "source": [
    "t2 = []\n",
    "\n",
    "for tupla in t1:\n",
    "    if tupla:\n",
    "        t2.append(tupla)\n",
    "\n",
    "print(t2)"
   ],
   "metadata": {
    "collapsed": false
   }
  },
  {
   "cell_type": "markdown",
   "source": [
    "6. Cree una funcion en Python que dada una tupla de tuplas con numeros, produzca una tupla con el promedio de cada tupla individual. Tomar nota del siguiente ejemplo:\n",
    "Si la tupla de entrada fuera: ((10, 10, 10, 12), (30, 45, 56, 45), (81, 80, 39, 32))\n",
    "El resultado deber´ıa ser: (10.5, 44, 58)"
   ],
   "metadata": {
    "collapsed": false
   }
  },
  {
   "cell_type": "code",
   "execution_count": 25,
   "outputs": [],
   "source": [
    "def pTupla(tupla):\n",
    "    promedio = ((sum(val)/len(val)) for val in tupla)\n",
    "    return tuple(promedio)"
   ],
   "metadata": {
    "collapsed": false
   }
  },
  {
   "cell_type": "code",
   "execution_count": 26,
   "outputs": [
    {
     "data": {
      "text/plain": "(10.5, 44.0, 58.0)"
     },
     "execution_count": 26,
     "metadata": {},
     "output_type": "execute_result"
    }
   ],
   "source": [
    "pTupla(((10, 10, 10, 12), (30, 45, 56, 45), (81, 80, 39, 32)))"
   ],
   "metadata": {
    "collapsed": false
   }
  },
  {
   "cell_type": "markdown",
   "source": [
    "7. Escribir un programa que gestione las facturas pendientes de cobro de una empresa. Las facturas se almacenaran en un diccionario donde la llave de cada factura sera el numero de factura (debe utilizar un numero de 4 d´ıgitos) y el valor el coste de la factura. El programa debe preguntar al usuario si quiere an˜adir una nueva factura, pagar una existente o terminar.\n",
    "Si desea an˜adir una nueva factura se preguntara por el numero de factura y su costo y se anadira al diccionario, para confirmar que la factura se ingreso correctamente el programa debe desplegar el diccionario completo. Si se desea pagar una factura se preguntara por el numero de factura y se eliminara del diccionario. Despues de cada operacion el programa debe mostrar en pantalla la cantidad cobrada hasta el momento y la cantidad pendiente de cobro. Puede utilizar otras estructuras de datos como apoyo si lo considera necesario.\n"
   ],
   "metadata": {
    "collapsed": false
   }
  },
  {
   "cell_type": "code",
   "execution_count": 30,
   "outputs": [
    {
     "name": "stdout",
     "output_type": "stream",
     "text": [
      "Factura añadida correctamente:\n",
      "{'1234': 12.0}\n",
      "Cantidad cobrada: 12.0\n",
      "Cantidad pendiente: 12.0\n",
      "Factura añadida correctamente:\n",
      "{'1234': 12.0, '13': 16546.0}\n",
      "Cantidad cobrada: 16558.0\n",
      "Cantidad pendiente: 16558.0\n",
      "Factura añadida correctamente:\n",
      "{'1234': 12.0, '13': 16546.0, '1235': 1515.0}\n",
      "Cantidad cobrada: 18073.0\n",
      "Cantidad pendiente: 18073.0\n",
      "Ingrese una opcion valida. \n"
     ]
    }
   ],
   "source": [
    "facturas = {}\n",
    "\n",
    "try:\n",
    "    while True:\n",
    "        accion = input(\"?Desea (a)ñadir factura, (p)agar factura, (t)erminar? \")\n",
    "        if ((accion != 'a') and (accion != 'b') and (accion != 'c')):\n",
    "            raise ValueError(\"ValueError\")\n",
    "\n",
    "        if accion == 'a':\n",
    "            num_factura = input(\"Ingrese el número de factura (4 digitos): \")\n",
    "            costo = float(input(\"Ingrese el costo de la factura: \"))\n",
    "            facturas[num_factura] = costo\n",
    "            print(\"Factura añadida correctamente:\")\n",
    "            print(facturas)\n",
    "\n",
    "        elif accion == 'p':\n",
    "            num_factura = input(\"Ingrese el numero de factura que desea pagar: \")\n",
    "            if num_factura in facturas:\n",
    "                costo = facturas[num_factura]\n",
    "                del facturas[num_factura]\n",
    "                print(f\"La factura {num_factura} ha sido pagada.\")\n",
    "                print(\"Facturas pendientes:\")\n",
    "                print(facturas)\n",
    "            else:\n",
    "                print(f\"No existe la factura {num_factura} en el sistema.\")\n",
    "\n",
    "        elif accion == 't':\n",
    "            print(\"Gracias por utilizar el sistema de facturas.\")\n",
    "            break\n",
    "\n",
    "        cobrado = sum(facturas.values())\n",
    "        pendiente = sum(facturas.values())\n",
    "        print(f\"Cantidad cobrada: {cobrado}\")\n",
    "        print(f\"Cantidad pendiente: {pendiente}\")\n",
    "except(ValueError):\n",
    "    print('Ingrese una opcion valida. ')"
   ],
   "metadata": {
    "collapsed": false
   }
  },
  {
   "cell_type": "markdown",
   "source": [
    "8. Haga una funcion en Python, que cree un set con todas las cartas de una baraja de Pocker utilizando el siguiente formato: Tipo-Numero. Utilice las letras T para treboles, C para corazones, P para picas y E para espadas. Para los numeros utilice la numeracion del 1 al 13. Por ejemplo E13 - serıa Rey de Espadas, P01 serıa As de Picas, T05 ser´ıa cinco de Treboles.\n",
    "Posteriormente cree una funcion que dado el conjunto anterior cree dos sets nuevos de cartas, cada conjunto debe tener una cantidad variable de elementos, puede utilizar numeros aleatorios enteros para definir la longitud de los conjuntos.\n",
    "Adicionalmente, debera calcular la probabilidad de la interseccion de ambos conjuntos y demuestre si son eventos independientes con la regla del producto.\n",
    "Para concluir, calcule probabilidad de la union de ambos conjuntos y demuestre que se cumple la regla de la adicion."
   ],
   "metadata": {
    "collapsed": false
   }
  },
  {
   "cell_type": "code",
   "execution_count": 36,
   "outputs": [],
   "source": [
    "def baraja():\n",
    "    tipos = ['T', 'C', 'P', 'E']\n",
    "    numeros = ['01', '02', '03', '04', '05', '06', '07', '08', '09', '10', '11', '12', '13']\n",
    "    baraja = []\n",
    "    for tipo in tipos:\n",
    "        for numero in numeros:\n",
    "            carta = tipo + numero\n",
    "            baraja.append(carta)\n",
    "    return baraja"
   ],
   "metadata": {
    "collapsed": false
   }
  },
  {
   "cell_type": "code",
   "execution_count": 37,
   "outputs": [
    {
     "data": {
      "text/plain": "['T01',\n 'T02',\n 'T03',\n 'T04',\n 'T05',\n 'T06',\n 'T07',\n 'T08',\n 'T09',\n 'T10',\n 'T11',\n 'T12',\n 'T13',\n 'C01',\n 'C02',\n 'C03',\n 'C04',\n 'C05',\n 'C06',\n 'C07',\n 'C08',\n 'C09',\n 'C10',\n 'C11',\n 'C12',\n 'C13',\n 'P01',\n 'P02',\n 'P03',\n 'P04',\n 'P05',\n 'P06',\n 'P07',\n 'P08',\n 'P09',\n 'P10',\n 'P11',\n 'P12',\n 'P13',\n 'E01',\n 'E02',\n 'E03',\n 'E04',\n 'E05',\n 'E06',\n 'E07',\n 'E08',\n 'E09',\n 'E10',\n 'E11',\n 'E12',\n 'E13']"
     },
     "execution_count": 37,
     "metadata": {},
     "output_type": "execute_result"
    }
   ],
   "source": [
    "b1 = baraja()\n",
    "b1"
   ],
   "metadata": {
    "collapsed": false
   }
  },
  {
   "cell_type": "code",
   "execution_count": null,
   "outputs": [],
   "source": [
    "\n",
    "\n",
    "mazo1, mazo2 = crear_conjuntos(baraja)\n",
    "print(mazo1)\n",
    "print(mazo2)"
   ],
   "metadata": {
    "collapsed": false
   }
  }
 ],
 "metadata": {
  "kernelspec": {
   "display_name": "Python 3",
   "language": "python",
   "name": "python3"
  },
  "language_info": {
   "codemirror_mode": {
    "name": "ipython",
    "version": 2
   },
   "file_extension": ".py",
   "mimetype": "text/x-python",
   "name": "python",
   "nbconvert_exporter": "python",
   "pygments_lexer": "ipython2",
   "version": "2.7.6"
  }
 },
 "nbformat": 4,
 "nbformat_minor": 0
}
